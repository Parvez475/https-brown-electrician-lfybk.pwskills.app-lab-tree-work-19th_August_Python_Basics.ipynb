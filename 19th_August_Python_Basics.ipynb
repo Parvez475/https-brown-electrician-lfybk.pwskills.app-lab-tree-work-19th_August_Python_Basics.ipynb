{
 "cells": [
  {
   "cell_type": "code",
   "execution_count": 13,
   "id": "af4ecd0b-7837-47b0-9672-ea1347039eaf",
   "metadata": {},
   "outputs": [],
   "source": [
    "#Declare two variables, `x` and `y`, and assign them integer values. Swap thevalues of these variables without using any temporary variable\n",
    "\n",
    "x = 5\n",
    "y = 6\n",
    "\n",
    "x = x + y\n",
    "y = x - y\n",
    "x = x - y"
   ]
  },
  {
   "cell_type": "code",
   "execution_count": 14,
   "id": "5ae6304e-f56e-4121-b1b6-60946ebcb6d9",
   "metadata": {
    "tags": []
   },
   "outputs": [
    {
     "data": {
      "text/plain": [
       "int"
      ]
     },
     "execution_count": 14,
     "metadata": {},
     "output_type": "execute_result"
    }
   ],
   "source": [
    "type(x)"
   ]
  },
  {
   "cell_type": "code",
   "execution_count": 15,
   "id": "2665c17d-bdba-4063-b6cd-1f0366441ec6",
   "metadata": {},
   "outputs": [
    {
     "data": {
      "text/plain": [
       "int"
      ]
     },
     "execution_count": 15,
     "metadata": {},
     "output_type": "execute_result"
    }
   ],
   "source": [
    "type(y)"
   ]
  },
  {
   "cell_type": "code",
   "execution_count": 16,
   "id": "3c0ef099-8fe2-479f-b46e-708562404f3c",
   "metadata": {},
   "outputs": [
    {
     "name": "stdout",
     "output_type": "stream",
     "text": [
      "Swapping x & Y\n",
      "x = 6\n",
      "y = 5\n"
     ]
    }
   ],
   "source": [
    "print(\"Swapping x & Y\")\n",
    "print(\"x =\",x)\n",
    "print(\"y =\",y)"
   ]
  },
  {
   "cell_type": "code",
   "execution_count": 18,
   "id": "c0116ca5-d168-4e7b-8642-3dfca46e9bf3",
   "metadata": {},
   "outputs": [
    {
     "name": "stdin",
     "output_type": "stream",
     "text": [
      "Enter the lenght of ractangle 12\n",
      "Enter the width of ractangle 12\n"
     ]
    },
    {
     "name": "stdout",
     "output_type": "stream",
     "text": [
      "Area of the rectangle is 144.0\n"
     ]
    }
   ],
   "source": [
    "#Create a program that calculates the area of a rectangle. Take the length and width as inputs from the user and store them in variables. Calculate and display the area\n",
    "\n",
    "lenght = float(input(\"Enter the lenght of ractangle\"))  #user input for rectangle lenght\n",
    "width = float(input(\"Enter the width of ractangle\"))  #user input for rectangle wight\n",
    "\n",
    "area = lenght * width\n",
    "\n",
    "print(\"Area of the rectangle is\",area)"
   ]
  },
  {
   "cell_type": "code",
   "execution_count": 45,
   "id": "766bfca1-7336-4073-bc3f-bbb3a59eff97",
   "metadata": {},
   "outputs": [
    {
     "name": "stdin",
     "output_type": "stream",
     "text": [
      "Enter temperatire in Celsius 36.8\n"
     ]
    },
    {
     "name": "stdout",
     "output_type": "stream",
     "text": [
      "The Fahreinheit of 36.8 is 66.24\n"
     ]
    }
   ],
   "source": [
    "#Write a Python program that converts temperatures from Celsius to Fahrenheit. Take the temperature in Celsius as input, store it in a variable,\n",
    "#convert it to Fahrenheit, and display the result.\n",
    "\n",
    "celsius = float(input(\"Enter temperatire in Celsius\")) #taking input in celsius and storing input in celsius\n",
    "\n",
    "fahreinheit = (1.8  * celsius)                         #formula to convert\n",
    "\n",
    "print(\"The Fahreinheit of\",celsius,\"is\",fahreinheit)"
   ]
  },
  {
   "cell_type": "code",
   "execution_count": 1,
   "id": "55187f56-5621-48a2-8d80-dced913315b5",
   "metadata": {},
   "outputs": [
    {
     "name": "stdin",
     "output_type": "stream",
     "text": [
      "Enter your name? Parvez\n"
     ]
    },
    {
     "name": "stdout",
     "output_type": "stream",
     "text": [
      "The lenght of your name is 6\n"
     ]
    }
   ],
   "source": [
    "#String Based Questions\n",
    "#Write a Python program that takes a string as input and prints the length of the string\n",
    "\n",
    "str1 = str(input(\"Enter your name?\"))  #storing input data in str1\n",
    "\n",
    "print(\"The lenght of your name is\",len(str1))\n"
   ]
  },
  {
   "cell_type": "code",
   "execution_count": 12,
   "id": "f0d7874b-f7c1-4635-b59b-285d9d215bc5",
   "metadata": {},
   "outputs": [
    {
     "name": "stdin",
     "output_type": "stream",
     "text": [
      "What is the defination of physics? The Systematic Study Of natural phenomenon is called physics.\n"
     ]
    },
    {
     "name": "stdout",
     "output_type": "stream",
     "text": [
      "The number of Vowels are 16\n"
     ]
    }
   ],
   "source": [
    "#Create a program that takes a sentence from the user and counts the number of vowels (a, e, i, o, u) in the string.\n",
    "\n",
    "str1 = str(input(\"What is the defination of physics?\"))\n",
    "vowel_count=0\n",
    "user_sentence=str1.lower()\n",
    "vowel=['a','e','i','o','u']\n",
    "for a in str1:\n",
    "            if a in vowel:\n",
    "                vowel_count+=1\n",
    "        \n",
    "print(\"The number of Vowels are\",vowel_count)\n"
   ]
  },
  {
   "cell_type": "code",
   "execution_count": 13,
   "id": "9141ef34-a214-4474-8cf5-2a6737513856",
   "metadata": {},
   "outputs": [
    {
     "name": "stdout",
     "output_type": "stream",
     "text": [
      "dnalgnE\n"
     ]
    }
   ],
   "source": [
    "#Given a string, reverse the order of characters using string slicing and print the reversed string.\n",
    "\n",
    "str1 = \"England\"\n",
    "Reversed=str1[::-1]\n",
    "print(Reversed)"
   ]
  },
  {
   "cell_type": "code",
   "execution_count": 14,
   "id": "b16b8ce0-0f2a-4688-b97d-7610b619d1a8",
   "metadata": {},
   "outputs": [
    {
     "data": {
      "text/plain": [
       "'dnalgnE'"
      ]
     },
     "execution_count": 14,
     "metadata": {},
     "output_type": "execute_result"
    }
   ],
   "source": [
    "str1[::-1]"
   ]
  },
  {
   "cell_type": "code",
   "execution_count": 15,
   "id": "81f6855d-c479-4807-8c9d-6de950dfad87",
   "metadata": {},
   "outputs": [
    {
     "data": {
      "text/plain": [
       "'n'"
      ]
     },
     "execution_count": 15,
     "metadata": {},
     "output_type": "execute_result"
    }
   ],
   "source": [
    "str1[5]"
   ]
  },
  {
   "cell_type": "code",
   "execution_count": 16,
   "id": "1e61d395-9bd8-4b9d-a213-6485c583d4d9",
   "metadata": {},
   "outputs": [
    {
     "data": {
      "text/plain": [
       "'En'"
      ]
     },
     "execution_count": 16,
     "metadata": {},
     "output_type": "execute_result"
    }
   ],
   "source": [
    "str1[:2]"
   ]
  },
  {
   "cell_type": "code",
   "execution_count": 2,
   "id": "6ff81d70-6e1d-438e-b31c-d7eb08cc5046",
   "metadata": {},
   "outputs": [
    {
     "name": "stdin",
     "output_type": "stream",
     "text": [
      "Enter a word to check palindrome LOL\n"
     ]
    },
    {
     "name": "stdout",
     "output_type": "stream",
     "text": [
      "string is palindrome\n"
     ]
    }
   ],
   "source": [
    "#Write a program that takes a string as input and checks if it is a palindrome(reads the same forwards and backwards)\n",
    "\n",
    "str2 = str(input(\"Enter a word to check palindrome\"))\n",
    "\n",
    "if str2 == str2[::-1]:    #i tried multiple code hence i used IF statement to execute it.\n",
    "    \n",
    "    print(\"string is palindrome\")\n",
    "else:\n",
    "    print(\"not\")"
   ]
  },
  {
   "cell_type": "code",
   "execution_count": 4,
   "id": "a7517f4f-f8aa-4521-b7aa-1e8234a95df3",
   "metadata": {},
   "outputs": [
    {
     "name": "stdin",
     "output_type": "stream",
     "text": [
      "Enter your full name: Parvez akhh kjcvb\n"
     ]
    },
    {
     "name": "stdout",
     "output_type": "stream",
     "text": [
      "Parvezakhhkjcvb\n"
     ]
    }
   ],
   "source": [
    "#Create a program that takes a string as input and removes all the spaces from it. Print the modified string without spaces.\n",
    "\n",
    "string=str(input(\"Enter your full name:\"))\n",
    "witout_space=string.replace(' ','')\n",
    "print(witout_space)"
   ]
  },
  {
   "cell_type": "code",
   "execution_count": null,
   "id": "a7b108ec-e094-409f-b9c4-88038759af9c",
   "metadata": {},
   "outputs": [],
   "source": []
  }
 ],
 "metadata": {
  "kernelspec": {
   "display_name": "Python 3 (ipykernel)",
   "language": "python",
   "name": "python3"
  },
  "language_info": {
   "codemirror_mode": {
    "name": "ipython",
    "version": 3
   },
   "file_extension": ".py",
   "mimetype": "text/x-python",
   "name": "python",
   "nbconvert_exporter": "python",
   "pygments_lexer": "ipython3",
   "version": "3.10.8"
  }
 },
 "nbformat": 4,
 "nbformat_minor": 5
}
